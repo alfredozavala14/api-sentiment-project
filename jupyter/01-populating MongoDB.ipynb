{
 "cells": [
  {
   "cell_type": "markdown",
   "id": "referenced-richmond",
   "metadata": {
    "toc": true
   },
   "source": [
    "<h1>Table of Contents<span class=\"tocSkip\"></span></h1>\n",
    "<div class=\"toc\"><ul class=\"toc-item\"><li><span><a href=\"#Intro\" data-toc-modified-id=\"Intro-1\"><span class=\"toc-item-num\">1&nbsp;&nbsp;</span>Intro</a></span></li><li><span><a href=\"#Importing-libraries\" data-toc-modified-id=\"Importing-libraries-2\"><span class=\"toc-item-num\">2&nbsp;&nbsp;</span>Importing libraries</a></span></li><li><span><a href=\"#Uploading-csv-to-MongoDB\" data-toc-modified-id=\"Uploading-csv-to-MongoDB-3\"><span class=\"toc-item-num\">3&nbsp;&nbsp;</span>Uploading csv to MongoDB</a></span></li></ul></div>"
   ]
  },
  {
   "cell_type": "markdown",
   "id": "informational-diana",
   "metadata": {},
   "source": [
    "## Intro"
   ]
  },
  {
   "cell_type": "markdown",
   "id": "functional-dover",
   "metadata": {},
   "source": [
    "This jupyter notebook is the first part of the api-sentiment-project. Here, we have downloaded a dataset from kaggle with lines from many episodes in the tv show South Park, we are cleaning the dataset and we are uploading the data to MongoDB. "
   ]
  },
  {
   "cell_type": "markdown",
   "id": "exempt-intent",
   "metadata": {},
   "source": [
    "## Importing libraries"
   ]
  },
  {
   "cell_type": "code",
   "execution_count": 1,
   "id": "imposed-stocks",
   "metadata": {},
   "outputs": [],
   "source": [
    "import pandas as pd"
   ]
  },
  {
   "cell_type": "code",
   "execution_count": 2,
   "id": "built-liberia",
   "metadata": {},
   "outputs": [],
   "source": [
    "%config Completer.use_jedi = False"
   ]
  },
  {
   "cell_type": "markdown",
   "id": "sporting-butler",
   "metadata": {},
   "source": [
    "## Uploading csv to MongoDB"
   ]
  },
  {
   "cell_type": "code",
   "execution_count": 3,
   "id": "static-boxing",
   "metadata": {},
   "outputs": [],
   "source": [
    "# connecting with MongoDB\n",
    "\n",
    "from pymongo import MongoClient\n",
    "client = MongoClient()"
   ]
  },
  {
   "cell_type": "code",
   "execution_count": 4,
   "id": "blocked-optimization",
   "metadata": {},
   "outputs": [],
   "source": [
    "# creating new database and collection\n",
    "\n",
    "character_col = client.api_sentiment_project.characters\n",
    "message_col = client.api_sentiment_project.messages\n",
    "episodes_col = client.api_sentiment_project.episodes"
   ]
  },
  {
   "cell_type": "code",
   "execution_count": 5,
   "id": "bottom-exploration",
   "metadata": {},
   "outputs": [],
   "source": [
    "# load the csv file into a pandas DF\n",
    "\n",
    "south_park_lines = pd.read_csv('../data/sp_all-seasons.csv', header = 0)"
   ]
  },
  {
   "cell_type": "code",
   "execution_count": 6,
   "id": "egyptian-midwest",
   "metadata": {},
   "outputs": [
    {
     "data": {
      "text/html": [
       "<div>\n",
       "<style scoped>\n",
       "    .dataframe tbody tr th:only-of-type {\n",
       "        vertical-align: middle;\n",
       "    }\n",
       "\n",
       "    .dataframe tbody tr th {\n",
       "        vertical-align: top;\n",
       "    }\n",
       "\n",
       "    .dataframe thead th {\n",
       "        text-align: right;\n",
       "    }\n",
       "</style>\n",
       "<table border=\"1\" class=\"dataframe\">\n",
       "  <thead>\n",
       "    <tr style=\"text-align: right;\">\n",
       "      <th></th>\n",
       "      <th>Season</th>\n",
       "      <th>Episode</th>\n",
       "      <th>Character</th>\n",
       "      <th>Line</th>\n",
       "    </tr>\n",
       "  </thead>\n",
       "  <tbody>\n",
       "    <tr>\n",
       "      <th>0</th>\n",
       "      <td>10</td>\n",
       "      <td>1</td>\n",
       "      <td>Stan</td>\n",
       "      <td>You guys, you guys! Chef is going away. \\n</td>\n",
       "    </tr>\n",
       "    <tr>\n",
       "      <th>1</th>\n",
       "      <td>10</td>\n",
       "      <td>1</td>\n",
       "      <td>Kyle</td>\n",
       "      <td>Going away? For how long?\\n</td>\n",
       "    </tr>\n",
       "    <tr>\n",
       "      <th>2</th>\n",
       "      <td>10</td>\n",
       "      <td>1</td>\n",
       "      <td>Stan</td>\n",
       "      <td>Forever.\\n</td>\n",
       "    </tr>\n",
       "    <tr>\n",
       "      <th>3</th>\n",
       "      <td>10</td>\n",
       "      <td>1</td>\n",
       "      <td>Chef</td>\n",
       "      <td>I'm sorry boys.\\n</td>\n",
       "    </tr>\n",
       "    <tr>\n",
       "      <th>4</th>\n",
       "      <td>10</td>\n",
       "      <td>1</td>\n",
       "      <td>Stan</td>\n",
       "      <td>Chef said he's been bored, so he joining a gro...</td>\n",
       "    </tr>\n",
       "  </tbody>\n",
       "</table>\n",
       "</div>"
      ],
      "text/plain": [
       "  Season Episode Character                                               Line\n",
       "0     10       1      Stan         You guys, you guys! Chef is going away. \\n\n",
       "1     10       1      Kyle                        Going away? For how long?\\n\n",
       "2     10       1      Stan                                         Forever.\\n\n",
       "3     10       1      Chef                                  I'm sorry boys.\\n\n",
       "4     10       1      Stan  Chef said he's been bored, so he joining a gro..."
      ]
     },
     "execution_count": 6,
     "metadata": {},
     "output_type": "execute_result"
    }
   ],
   "source": [
    "south_park_lines.head()"
   ]
  },
  {
   "cell_type": "code",
   "execution_count": 7,
   "id": "musical-partner",
   "metadata": {},
   "outputs": [
    {
     "data": {
      "text/plain": [
       "(70896, 4)"
      ]
     },
     "execution_count": 7,
     "metadata": {},
     "output_type": "execute_result"
    }
   ],
   "source": [
    "south_park_lines.shape"
   ]
  },
  {
   "cell_type": "code",
   "execution_count": 8,
   "id": "prepared-advisory",
   "metadata": {},
   "outputs": [],
   "source": [
    "south_park_lines.columns = south_park_lines.columns.str.lower()"
   ]
  },
  {
   "cell_type": "code",
   "execution_count": 9,
   "id": "every-melbourne",
   "metadata": {},
   "outputs": [
    {
     "name": "stdout",
     "output_type": "stream",
     "text": [
      "The data type of column season is <class 'str'>\n",
      "The data type of column episode is <class 'str'>\n",
      "The data type of column character is <class 'str'>\n",
      "The data type of column line is <class 'str'>\n"
     ]
    }
   ],
   "source": [
    "sp_cols = list(south_park_lines.columns)\n",
    "\n",
    "for col in sp_cols:\n",
    "    print(f\"The data type of column {col} is {type(south_park_lines[col][0])}\")"
   ]
  },
  {
   "cell_type": "markdown",
   "id": "welsh-secret",
   "metadata": {},
   "source": [
    "Let's check why the first two columns might be strings"
   ]
  },
  {
   "cell_type": "code",
   "execution_count": 10,
   "id": "municipal-popularity",
   "metadata": {
    "scrolled": false
   },
   "outputs": [
    {
     "data": {
      "text/plain": [
       "array(['10', 'Season', '11', '12', '13', '14', '15', '16', '17', '18',\n",
       "       '1', '2', '3', '4', '5', '6', '7', '8', '9'], dtype=object)"
      ]
     },
     "execution_count": 10,
     "metadata": {},
     "output_type": "execute_result"
    }
   ],
   "source": [
    "south_park_lines.season.unique()"
   ]
  },
  {
   "cell_type": "code",
   "execution_count": 11,
   "id": "round-motion",
   "metadata": {},
   "outputs": [],
   "source": [
    "south_park_lines = south_park_lines[south_park_lines.season != 'Season']"
   ]
  },
  {
   "cell_type": "code",
   "execution_count": 12,
   "id": "royal-rover",
   "metadata": {},
   "outputs": [
    {
     "data": {
      "text/plain": [
       "(70879, 4)"
      ]
     },
     "execution_count": 12,
     "metadata": {},
     "output_type": "execute_result"
    }
   ],
   "source": [
    "south_park_lines.shape"
   ]
  },
  {
   "cell_type": "markdown",
   "id": "tutorial-integration",
   "metadata": {},
   "source": [
    "Lets change datatype of first two columns to int"
   ]
  },
  {
   "cell_type": "code",
   "execution_count": 13,
   "id": "falling-korean",
   "metadata": {},
   "outputs": [],
   "source": [
    "south_park_lines['season'] = pd.to_numeric(south_park_lines['season'])"
   ]
  },
  {
   "cell_type": "code",
   "execution_count": 14,
   "id": "mathematical-horror",
   "metadata": {},
   "outputs": [
    {
     "data": {
      "text/plain": [
       "numpy.int64"
      ]
     },
     "execution_count": 14,
     "metadata": {},
     "output_type": "execute_result"
    }
   ],
   "source": [
    "type(south_park_lines.season[1])"
   ]
  },
  {
   "cell_type": "code",
   "execution_count": 15,
   "id": "understood-center",
   "metadata": {},
   "outputs": [],
   "source": [
    "south_park_lines['episode'] = pd.to_numeric(south_park_lines['episode'])"
   ]
  },
  {
   "cell_type": "markdown",
   "id": "beautiful-feedback",
   "metadata": {},
   "source": [
    "Finally, let's remove the '\\n' at the end of each line"
   ]
  },
  {
   "cell_type": "code",
   "execution_count": 16,
   "id": "hispanic-summary",
   "metadata": {},
   "outputs": [],
   "source": [
    "south_park_lines.line = south_park_lines.line.replace('\\n','', regex=True)"
   ]
  },
  {
   "cell_type": "markdown",
   "id": "radical-travel",
   "metadata": {},
   "source": [
    "Now we can create new dataframes and load each one to the corresponding MongoDB collection. The messages collection will have the south_park_lines dataframe, but we need two more: characters and episodes"
   ]
  },
  {
   "cell_type": "markdown",
   "id": "technical-guitar",
   "metadata": {},
   "source": [
    "Let's start with the episodes collection"
   ]
  },
  {
   "cell_type": "code",
   "execution_count": 17,
   "id": "beneficial-credits",
   "metadata": {},
   "outputs": [],
   "source": [
    "sp_episodes = pd.DataFrame(data = south_park_lines.groupby(['season', 'episode']).size().reset_index(name='number_lines'))"
   ]
  },
  {
   "cell_type": "code",
   "execution_count": 18,
   "id": "trained-mixer",
   "metadata": {},
   "outputs": [
    {
     "data": {
      "text/html": [
       "<div>\n",
       "<style scoped>\n",
       "    .dataframe tbody tr th:only-of-type {\n",
       "        vertical-align: middle;\n",
       "    }\n",
       "\n",
       "    .dataframe tbody tr th {\n",
       "        vertical-align: top;\n",
       "    }\n",
       "\n",
       "    .dataframe thead th {\n",
       "        text-align: right;\n",
       "    }\n",
       "</style>\n",
       "<table border=\"1\" class=\"dataframe\">\n",
       "  <thead>\n",
       "    <tr style=\"text-align: right;\">\n",
       "      <th></th>\n",
       "      <th>season</th>\n",
       "      <th>episode</th>\n",
       "      <th>number_lines</th>\n",
       "    </tr>\n",
       "  </thead>\n",
       "  <tbody>\n",
       "    <tr>\n",
       "      <th>0</th>\n",
       "      <td>1</td>\n",
       "      <td>1</td>\n",
       "      <td>391</td>\n",
       "    </tr>\n",
       "    <tr>\n",
       "      <th>1</th>\n",
       "      <td>1</td>\n",
       "      <td>2</td>\n",
       "      <td>297</td>\n",
       "    </tr>\n",
       "    <tr>\n",
       "      <th>2</th>\n",
       "      <td>1</td>\n",
       "      <td>3</td>\n",
       "      <td>286</td>\n",
       "    </tr>\n",
       "    <tr>\n",
       "      <th>3</th>\n",
       "      <td>1</td>\n",
       "      <td>4</td>\n",
       "      <td>364</td>\n",
       "    </tr>\n",
       "    <tr>\n",
       "      <th>4</th>\n",
       "      <td>1</td>\n",
       "      <td>5</td>\n",
       "      <td>314</td>\n",
       "    </tr>\n",
       "  </tbody>\n",
       "</table>\n",
       "</div>"
      ],
      "text/plain": [
       "   season  episode  number_lines\n",
       "0       1        1           391\n",
       "1       1        2           297\n",
       "2       1        3           286\n",
       "3       1        4           364\n",
       "4       1        5           314"
      ]
     },
     "execution_count": 18,
     "metadata": {},
     "output_type": "execute_result"
    }
   ],
   "source": [
    "sp_episodes.head()"
   ]
  },
  {
   "cell_type": "code",
   "execution_count": 19,
   "id": "royal-present",
   "metadata": {},
   "outputs": [
    {
     "data": {
      "text/html": [
       "<div>\n",
       "<style scoped>\n",
       "    .dataframe tbody tr th:only-of-type {\n",
       "        vertical-align: middle;\n",
       "    }\n",
       "\n",
       "    .dataframe tbody tr th {\n",
       "        vertical-align: top;\n",
       "    }\n",
       "\n",
       "    .dataframe thead th {\n",
       "        text-align: right;\n",
       "    }\n",
       "</style>\n",
       "<table border=\"1\" class=\"dataframe\">\n",
       "  <thead>\n",
       "    <tr style=\"text-align: right;\">\n",
       "      <th></th>\n",
       "      <th>season</th>\n",
       "      <th>episode</th>\n",
       "      <th>number_lines</th>\n",
       "    </tr>\n",
       "  </thead>\n",
       "  <tbody>\n",
       "    <tr>\n",
       "      <th>0</th>\n",
       "      <td>1</td>\n",
       "      <td>1</td>\n",
       "      <td>391</td>\n",
       "    </tr>\n",
       "    <tr>\n",
       "      <th>1</th>\n",
       "      <td>1</td>\n",
       "      <td>2</td>\n",
       "      <td>297</td>\n",
       "    </tr>\n",
       "    <tr>\n",
       "      <th>2</th>\n",
       "      <td>1</td>\n",
       "      <td>3</td>\n",
       "      <td>286</td>\n",
       "    </tr>\n",
       "    <tr>\n",
       "      <th>3</th>\n",
       "      <td>1</td>\n",
       "      <td>4</td>\n",
       "      <td>364</td>\n",
       "    </tr>\n",
       "    <tr>\n",
       "      <th>4</th>\n",
       "      <td>1</td>\n",
       "      <td>5</td>\n",
       "      <td>314</td>\n",
       "    </tr>\n",
       "    <tr>\n",
       "      <th>...</th>\n",
       "      <td>...</td>\n",
       "      <td>...</td>\n",
       "      <td>...</td>\n",
       "    </tr>\n",
       "    <tr>\n",
       "      <th>252</th>\n",
       "      <td>18</td>\n",
       "      <td>6</td>\n",
       "      <td>240</td>\n",
       "    </tr>\n",
       "    <tr>\n",
       "      <th>253</th>\n",
       "      <td>18</td>\n",
       "      <td>7</td>\n",
       "      <td>305</td>\n",
       "    </tr>\n",
       "    <tr>\n",
       "      <th>254</th>\n",
       "      <td>18</td>\n",
       "      <td>8</td>\n",
       "      <td>250</td>\n",
       "    </tr>\n",
       "    <tr>\n",
       "      <th>255</th>\n",
       "      <td>18</td>\n",
       "      <td>9</td>\n",
       "      <td>250</td>\n",
       "    </tr>\n",
       "    <tr>\n",
       "      <th>256</th>\n",
       "      <td>18</td>\n",
       "      <td>10</td>\n",
       "      <td>290</td>\n",
       "    </tr>\n",
       "  </tbody>\n",
       "</table>\n",
       "<p>257 rows × 3 columns</p>\n",
       "</div>"
      ],
      "text/plain": [
       "     season  episode  number_lines\n",
       "0         1        1           391\n",
       "1         1        2           297\n",
       "2         1        3           286\n",
       "3         1        4           364\n",
       "4         1        5           314\n",
       "..      ...      ...           ...\n",
       "252      18        6           240\n",
       "253      18        7           305\n",
       "254      18        8           250\n",
       "255      18        9           250\n",
       "256      18       10           290\n",
       "\n",
       "[257 rows x 3 columns]"
      ]
     },
     "execution_count": 19,
     "metadata": {},
     "output_type": "execute_result"
    }
   ],
   "source": [
    "sp_episodes.sort_values(['season', 'episode'])"
   ]
  },
  {
   "cell_type": "markdown",
   "id": "special-accuracy",
   "metadata": {},
   "source": [
    "Now we can create a dataframe for characters"
   ]
  },
  {
   "cell_type": "code",
   "execution_count": 20,
   "id": "lucky-setup",
   "metadata": {},
   "outputs": [],
   "source": [
    "sp_characters = pd.DataFrame(data = south_park_lines.character.unique(), columns = ['name'])"
   ]
  },
  {
   "cell_type": "code",
   "execution_count": 21,
   "id": "activated-investigator",
   "metadata": {},
   "outputs": [
    {
     "data": {
      "text/html": [
       "<div>\n",
       "<style scoped>\n",
       "    .dataframe tbody tr th:only-of-type {\n",
       "        vertical-align: middle;\n",
       "    }\n",
       "\n",
       "    .dataframe tbody tr th {\n",
       "        vertical-align: top;\n",
       "    }\n",
       "\n",
       "    .dataframe thead th {\n",
       "        text-align: right;\n",
       "    }\n",
       "</style>\n",
       "<table border=\"1\" class=\"dataframe\">\n",
       "  <thead>\n",
       "    <tr style=\"text-align: right;\">\n",
       "      <th></th>\n",
       "      <th>name</th>\n",
       "    </tr>\n",
       "  </thead>\n",
       "  <tbody>\n",
       "    <tr>\n",
       "      <th>0</th>\n",
       "      <td>Stan</td>\n",
       "    </tr>\n",
       "    <tr>\n",
       "      <th>1</th>\n",
       "      <td>Kyle</td>\n",
       "    </tr>\n",
       "    <tr>\n",
       "      <th>2</th>\n",
       "      <td>Chef</td>\n",
       "    </tr>\n",
       "    <tr>\n",
       "      <th>3</th>\n",
       "      <td>Mrs. Garrison</td>\n",
       "    </tr>\n",
       "    <tr>\n",
       "      <th>4</th>\n",
       "      <td>Cartman</td>\n",
       "    </tr>\n",
       "    <tr>\n",
       "      <th>...</th>\n",
       "      <td>...</td>\n",
       "    </tr>\n",
       "    <tr>\n",
       "      <th>3944</th>\n",
       "      <td>Male Voice</td>\n",
       "    </tr>\n",
       "    <tr>\n",
       "      <th>3945</th>\n",
       "      <td>AA Speaker</td>\n",
       "    </tr>\n",
       "    <tr>\n",
       "      <th>3946</th>\n",
       "      <td>Father Barnes</td>\n",
       "    </tr>\n",
       "    <tr>\n",
       "      <th>3947</th>\n",
       "      <td>Cardinal Mallory</td>\n",
       "    </tr>\n",
       "    <tr>\n",
       "      <th>3948</th>\n",
       "      <td>Blind Man</td>\n",
       "    </tr>\n",
       "  </tbody>\n",
       "</table>\n",
       "<p>3949 rows × 1 columns</p>\n",
       "</div>"
      ],
      "text/plain": [
       "                  name\n",
       "0                 Stan\n",
       "1                 Kyle\n",
       "2                 Chef\n",
       "3        Mrs. Garrison\n",
       "4              Cartman\n",
       "...                ...\n",
       "3944        Male Voice\n",
       "3945        AA Speaker\n",
       "3946     Father Barnes\n",
       "3947  Cardinal Mallory\n",
       "3948         Blind Man\n",
       "\n",
       "[3949 rows x 1 columns]"
      ]
     },
     "execution_count": 21,
     "metadata": {},
     "output_type": "execute_result"
    }
   ],
   "source": [
    "sp_characters"
   ]
  },
  {
   "cell_type": "markdown",
   "id": "flying-premium",
   "metadata": {},
   "source": [
    "We can finally load these into MongoDB"
   ]
  },
  {
   "cell_type": "code",
   "execution_count": 22,
   "id": "immediate-exclusion",
   "metadata": {},
   "outputs": [
    {
     "data": {
      "text/plain": [
       "<pymongo.results.InsertManyResult at 0x7f7f6fd9fc40>"
      ]
     },
     "execution_count": 22,
     "metadata": {},
     "output_type": "execute_result"
    }
   ],
   "source": [
    "character_col.insert_many(sp_characters.to_dict('records'))"
   ]
  },
  {
   "cell_type": "code",
   "execution_count": 23,
   "id": "welsh-armstrong",
   "metadata": {},
   "outputs": [
    {
     "data": {
      "text/plain": [
       "<pymongo.results.InsertManyResult at 0x7f7f717f0e00>"
      ]
     },
     "execution_count": 23,
     "metadata": {},
     "output_type": "execute_result"
    }
   ],
   "source": [
    "episodes_col.insert_many(sp_episodes.to_dict('records'))"
   ]
  },
  {
   "cell_type": "code",
   "execution_count": 24,
   "id": "equipped-allocation",
   "metadata": {},
   "outputs": [
    {
     "data": {
      "text/plain": [
       "<pymongo.results.InsertManyResult at 0x7f7f70f10c40>"
      ]
     },
     "execution_count": 24,
     "metadata": {},
     "output_type": "execute_result"
    }
   ],
   "source": [
    "message_col.insert_many(south_park_lines.to_dict('records'))"
   ]
  },
  {
   "cell_type": "code",
   "execution_count": null,
   "id": "universal-maple",
   "metadata": {},
   "outputs": [],
   "source": []
  }
 ],
 "metadata": {
  "kernelspec": {
   "display_name": "Python 3",
   "language": "python",
   "name": "python3"
  },
  "language_info": {
   "codemirror_mode": {
    "name": "ipython",
    "version": 3
   },
   "file_extension": ".py",
   "mimetype": "text/x-python",
   "name": "python",
   "nbconvert_exporter": "python",
   "pygments_lexer": "ipython3",
   "version": "3.8.5"
  },
  "toc": {
   "base_numbering": 1,
   "nav_menu": {},
   "number_sections": true,
   "sideBar": true,
   "skip_h1_title": true,
   "title_cell": "Table of Contents",
   "title_sidebar": "Contents",
   "toc_cell": true,
   "toc_position": {},
   "toc_section_display": true,
   "toc_window_display": false
  },
  "varInspector": {
   "cols": {
    "lenName": 16,
    "lenType": 16,
    "lenVar": 40
   },
   "kernels_config": {
    "python": {
     "delete_cmd_postfix": "",
     "delete_cmd_prefix": "del ",
     "library": "var_list.py",
     "varRefreshCmd": "print(var_dic_list())"
    },
    "r": {
     "delete_cmd_postfix": ") ",
     "delete_cmd_prefix": "rm(",
     "library": "var_list.r",
     "varRefreshCmd": "cat(var_dic_list()) "
    }
   },
   "types_to_exclude": [
    "module",
    "function",
    "builtin_function_or_method",
    "instance",
    "_Feature"
   ],
   "window_display": false
  }
 },
 "nbformat": 4,
 "nbformat_minor": 5
}
