{
 "cells": [
  {
   "cell_type": "markdown",
   "id": "third-smell",
   "metadata": {
    "toc": true
   },
   "source": [
    "<h1>Table of Contents<span class=\"tocSkip\"></span></h1>\n",
    "<div class=\"toc\"><ul class=\"toc-item\"><li><span><a href=\"#Intro\" data-toc-modified-id=\"Intro-1\"><span class=\"toc-item-num\">1&nbsp;&nbsp;</span>Intro</a></span></li><li><span><a href=\"#Import-libraries-and-database\" data-toc-modified-id=\"Import-libraries-and-database-2\"><span class=\"toc-item-num\">2&nbsp;&nbsp;</span>Import libraries and database</a></span></li><li><span><a href=\"#Tokenize\" data-toc-modified-id=\"Tokenize-3\"><span class=\"toc-item-num\">3&nbsp;&nbsp;</span>Tokenize</a></span></li><li><span><a href=\"#Eliminating-stop-words\" data-toc-modified-id=\"Eliminating-stop-words-4\"><span class=\"toc-item-num\">4&nbsp;&nbsp;</span>Eliminating stop words</a></span></li><li><span><a href=\"#Sentiment-analysis\" data-toc-modified-id=\"Sentiment-analysis-5\"><span class=\"toc-item-num\">5&nbsp;&nbsp;</span>Sentiment analysis</a></span></li><li><span><a href=\"#Visualization\" data-toc-modified-id=\"Visualization-6\"><span class=\"toc-item-num\">6&nbsp;&nbsp;</span>Visualization</a></span></li><li><span><a href=\"#Conclusions\" data-toc-modified-id=\"Conclusions-7\"><span class=\"toc-item-num\">7&nbsp;&nbsp;</span>Conclusions</a></span></li></ul></div>"
   ]
  },
  {
   "cell_type": "markdown",
   "id": "metropolitan-reynolds",
   "metadata": {},
   "source": [
    "## Intro"
   ]
  },
  {
   "cell_type": "markdown",
   "id": "innocent-banking",
   "metadata": {},
   "source": [
    "We can use sentiment analysis libraries to see if the language used in South Park is conisdered to be negative or positive. We know the show is seen as a very rude show, so I would expect that, on average, the language has negative connotations."
   ]
  },
  {
   "cell_type": "markdown",
   "id": "rural-biotechnology",
   "metadata": {},
   "source": [
    "## Import libraries and database"
   ]
  },
  {
   "cell_type": "code",
   "execution_count": 1,
   "id": "increased-retreat",
   "metadata": {},
   "outputs": [],
   "source": [
    "%config Completer.use_jedi = False"
   ]
  },
  {
   "cell_type": "code",
   "execution_count": 21,
   "id": "declared-atlanta",
   "metadata": {},
   "outputs": [],
   "source": [
    "import pandas as pd\n",
    "import numpy as np\n",
    "\n",
    "#regex\n",
    "import re\n",
    "\n",
    "#NLTK\n",
    "import nltk\n",
    "from nltk.sentiment.vader import SentimentIntensityAnalyzer\n",
    "from nltk.tokenize import RegexpTokenizer\n",
    "from nltk.corpus import stopwords\n",
    "\n",
    "# mongo\n",
    "from pymongo import MongoClient\n",
    "client = MongoClient()\n",
    "\n",
    "# visualization\n",
    "import seaborn as sns\n",
    "import matplotlib.pyplot as plt\n",
    "\n",
    "# sys\n",
    "import sys\n",
    "sys.path.append('../helpers')\n",
    "\n",
    "# tqdm\n",
    "from tqdm import tqdm\n",
    "\n",
    "from mongoConnection import *"
   ]
  },
  {
   "cell_type": "code",
   "execution_count": 3,
   "id": "organizational-mathematics",
   "metadata": {},
   "outputs": [],
   "source": [
    "db = client.api_sentiment_project"
   ]
  },
  {
   "cell_type": "code",
   "execution_count": 4,
   "id": "overhead-object",
   "metadata": {},
   "outputs": [],
   "source": [
    "res = read_coll(\"messages\", {})"
   ]
  },
  {
   "cell_type": "code",
   "execution_count": 5,
   "id": "medieval-extraction",
   "metadata": {},
   "outputs": [],
   "source": [
    "data = pd.DataFrame(res)"
   ]
  },
  {
   "cell_type": "code",
   "execution_count": 6,
   "id": "lesbian-discussion",
   "metadata": {},
   "outputs": [
    {
     "data": {
      "text/html": [
       "<div>\n",
       "<style scoped>\n",
       "    .dataframe tbody tr th:only-of-type {\n",
       "        vertical-align: middle;\n",
       "    }\n",
       "\n",
       "    .dataframe tbody tr th {\n",
       "        vertical-align: top;\n",
       "    }\n",
       "\n",
       "    .dataframe thead th {\n",
       "        text-align: right;\n",
       "    }\n",
       "</style>\n",
       "<table border=\"1\" class=\"dataframe\">\n",
       "  <thead>\n",
       "    <tr style=\"text-align: right;\">\n",
       "      <th></th>\n",
       "      <th>_id</th>\n",
       "      <th>season</th>\n",
       "      <th>episode</th>\n",
       "      <th>character</th>\n",
       "      <th>line</th>\n",
       "    </tr>\n",
       "  </thead>\n",
       "  <tbody>\n",
       "    <tr>\n",
       "      <th>0</th>\n",
       "      <td>6032914c0df3816c051b703a</td>\n",
       "      <td>10</td>\n",
       "      <td>1</td>\n",
       "      <td>Stan</td>\n",
       "      <td>You guys, you guys! Chef is going away.</td>\n",
       "    </tr>\n",
       "    <tr>\n",
       "      <th>1</th>\n",
       "      <td>6032914c0df3816c051b703b</td>\n",
       "      <td>10</td>\n",
       "      <td>1</td>\n",
       "      <td>Kyle</td>\n",
       "      <td>Going away? For how long?</td>\n",
       "    </tr>\n",
       "    <tr>\n",
       "      <th>2</th>\n",
       "      <td>6032914c0df3816c051b703c</td>\n",
       "      <td>10</td>\n",
       "      <td>1</td>\n",
       "      <td>Stan</td>\n",
       "      <td>Forever.</td>\n",
       "    </tr>\n",
       "    <tr>\n",
       "      <th>3</th>\n",
       "      <td>6032914c0df3816c051b703d</td>\n",
       "      <td>10</td>\n",
       "      <td>1</td>\n",
       "      <td>Chef</td>\n",
       "      <td>I'm sorry boys.</td>\n",
       "    </tr>\n",
       "    <tr>\n",
       "      <th>4</th>\n",
       "      <td>6032914c0df3816c051b703e</td>\n",
       "      <td>10</td>\n",
       "      <td>1</td>\n",
       "      <td>Stan</td>\n",
       "      <td>Chef said he's been bored, so he joining a gro...</td>\n",
       "    </tr>\n",
       "  </tbody>\n",
       "</table>\n",
       "</div>"
      ],
      "text/plain": [
       "                        _id  season  episode character  \\\n",
       "0  6032914c0df3816c051b703a      10        1      Stan   \n",
       "1  6032914c0df3816c051b703b      10        1      Kyle   \n",
       "2  6032914c0df3816c051b703c      10        1      Stan   \n",
       "3  6032914c0df3816c051b703d      10        1      Chef   \n",
       "4  6032914c0df3816c051b703e      10        1      Stan   \n",
       "\n",
       "                                                line  \n",
       "0           You guys, you guys! Chef is going away.   \n",
       "1                          Going away? For how long?  \n",
       "2                                           Forever.  \n",
       "3                                    I'm sorry boys.  \n",
       "4  Chef said he's been bored, so he joining a gro...  "
      ]
     },
     "execution_count": 6,
     "metadata": {},
     "output_type": "execute_result"
    }
   ],
   "source": [
    "data.head()"
   ]
  },
  {
   "cell_type": "code",
   "execution_count": 7,
   "id": "cubic-recycling",
   "metadata": {},
   "outputs": [],
   "source": [
    "data = data.drop(\"_id\", axis=1)"
   ]
  },
  {
   "cell_type": "markdown",
   "id": "indonesian-button",
   "metadata": {},
   "source": [
    "## Tokenize"
   ]
  },
  {
   "cell_type": "markdown",
   "id": "infectious-criterion",
   "metadata": {},
   "source": [
    "Once we have a df with all the lines we want to analyze, we need to tokenize each word in each line to convert them in words that nltk understands"
   ]
  },
  {
   "cell_type": "code",
   "execution_count": 8,
   "id": "fourth-sodium",
   "metadata": {},
   "outputs": [
    {
     "name": "stderr",
     "output_type": "stream",
     "text": [
      "[nltk_data] Downloading package punkt to\n",
      "[nltk_data]     /Users/alfredodezavala/nltk_data...\n",
      "[nltk_data]   Package punkt is already up-to-date!\n"
     ]
    },
    {
     "data": {
      "text/plain": [
       "True"
      ]
     },
     "execution_count": 8,
     "metadata": {},
     "output_type": "execute_result"
    }
   ],
   "source": [
    "#Donwload tokenizer from NLTK\n",
    "nltk.download('punkt')"
   ]
  },
  {
   "cell_type": "code",
   "execution_count": 9,
   "id": "effective-search",
   "metadata": {},
   "outputs": [],
   "source": [
    "def tokenize(string):\n",
    "    tokenizer = RegexpTokenizer(r'\\w+')\n",
    "    tokens = tokenizer.tokenize(string)\n",
    "    return tokens"
   ]
  },
  {
   "cell_type": "code",
   "execution_count": 10,
   "id": "turkish-temperature",
   "metadata": {},
   "outputs": [],
   "source": [
    "tqdm.pandas(desc=\"my bar!\")"
   ]
  },
  {
   "cell_type": "code",
   "execution_count": 11,
   "id": "graduate-walker",
   "metadata": {},
   "outputs": [
    {
     "name": "stderr",
     "output_type": "stream",
     "text": [
      "my bar!: 100%|██████████| 70879/70879 [00:01<00:00, 55938.41it/s]\n"
     ]
    },
    {
     "data": {
      "text/html": [
       "<div>\n",
       "<style scoped>\n",
       "    .dataframe tbody tr th:only-of-type {\n",
       "        vertical-align: middle;\n",
       "    }\n",
       "\n",
       "    .dataframe tbody tr th {\n",
       "        vertical-align: top;\n",
       "    }\n",
       "\n",
       "    .dataframe thead th {\n",
       "        text-align: right;\n",
       "    }\n",
       "</style>\n",
       "<table border=\"1\" class=\"dataframe\">\n",
       "  <thead>\n",
       "    <tr style=\"text-align: right;\">\n",
       "      <th></th>\n",
       "      <th>season</th>\n",
       "      <th>episode</th>\n",
       "      <th>character</th>\n",
       "      <th>line</th>\n",
       "    </tr>\n",
       "  </thead>\n",
       "  <tbody>\n",
       "    <tr>\n",
       "      <th>0</th>\n",
       "      <td>10</td>\n",
       "      <td>1</td>\n",
       "      <td>Stan</td>\n",
       "      <td>[You, guys, you, guys, Chef, is, going, away]</td>\n",
       "    </tr>\n",
       "    <tr>\n",
       "      <th>1</th>\n",
       "      <td>10</td>\n",
       "      <td>1</td>\n",
       "      <td>Kyle</td>\n",
       "      <td>[Going, away, For, how, long]</td>\n",
       "    </tr>\n",
       "    <tr>\n",
       "      <th>2</th>\n",
       "      <td>10</td>\n",
       "      <td>1</td>\n",
       "      <td>Stan</td>\n",
       "      <td>[Forever]</td>\n",
       "    </tr>\n",
       "    <tr>\n",
       "      <th>3</th>\n",
       "      <td>10</td>\n",
       "      <td>1</td>\n",
       "      <td>Chef</td>\n",
       "      <td>[I, m, sorry, boys]</td>\n",
       "    </tr>\n",
       "    <tr>\n",
       "      <th>4</th>\n",
       "      <td>10</td>\n",
       "      <td>1</td>\n",
       "      <td>Stan</td>\n",
       "      <td>[Chef, said, he, s, been, bored, so, he, joini...</td>\n",
       "    </tr>\n",
       "  </tbody>\n",
       "</table>\n",
       "</div>"
      ],
      "text/plain": [
       "   season  episode character  \\\n",
       "0      10        1      Stan   \n",
       "1      10        1      Kyle   \n",
       "2      10        1      Stan   \n",
       "3      10        1      Chef   \n",
       "4      10        1      Stan   \n",
       "\n",
       "                                                line  \n",
       "0      [You, guys, you, guys, Chef, is, going, away]  \n",
       "1                      [Going, away, For, how, long]  \n",
       "2                                          [Forever]  \n",
       "3                                [I, m, sorry, boys]  \n",
       "4  [Chef, said, he, s, been, bored, so, he, joini...  "
      ]
     },
     "execution_count": 11,
     "metadata": {},
     "output_type": "execute_result"
    }
   ],
   "source": [
    "data['line'] = data['line'].progress_apply(tokenize)\n",
    "data.head()"
   ]
  },
  {
   "cell_type": "markdown",
   "id": "phantom-spring",
   "metadata": {},
   "source": [
    "## Eliminating stop words"
   ]
  },
  {
   "cell_type": "markdown",
   "id": "insured-frontier",
   "metadata": {},
   "source": [
    "We now eliminate stop words (i.e. words that don't give any sentiment information) from our dataframe"
   ]
  },
  {
   "cell_type": "code",
   "execution_count": 12,
   "id": "superior-composer",
   "metadata": {},
   "outputs": [
    {
     "name": "stderr",
     "output_type": "stream",
     "text": [
      "[nltk_data] Downloading package stopwords to\n",
      "[nltk_data]     /Users/alfredodezavala/nltk_data...\n",
      "[nltk_data]   Package stopwords is already up-to-date!\n"
     ]
    },
    {
     "data": {
      "text/plain": [
       "True"
      ]
     },
     "execution_count": 12,
     "metadata": {},
     "output_type": "execute_result"
    }
   ],
   "source": [
    "nltk.download('stopwords') #stopwords"
   ]
  },
  {
   "cell_type": "code",
   "execution_count": 13,
   "id": "blond-frederick",
   "metadata": {},
   "outputs": [],
   "source": [
    "def stop_words(list_):\n",
    "    stop_words = set(stopwords.words('english'))\n",
    "    new_list = []\n",
    "    for string in list_:\n",
    "        if string not in stop_words:\n",
    "            new_list.append(string)\n",
    "    return \" \".join(new_list)"
   ]
  },
  {
   "cell_type": "code",
   "execution_count": 14,
   "id": "atomic-board",
   "metadata": {},
   "outputs": [
    {
     "name": "stderr",
     "output_type": "stream",
     "text": [
      "my bar!: 100%|██████████| 70879/70879 [00:16<00:00, 4174.81it/s]\n"
     ]
    },
    {
     "data": {
      "text/html": [
       "<div>\n",
       "<style scoped>\n",
       "    .dataframe tbody tr th:only-of-type {\n",
       "        vertical-align: middle;\n",
       "    }\n",
       "\n",
       "    .dataframe tbody tr th {\n",
       "        vertical-align: top;\n",
       "    }\n",
       "\n",
       "    .dataframe thead th {\n",
       "        text-align: right;\n",
       "    }\n",
       "</style>\n",
       "<table border=\"1\" class=\"dataframe\">\n",
       "  <thead>\n",
       "    <tr style=\"text-align: right;\">\n",
       "      <th></th>\n",
       "      <th>season</th>\n",
       "      <th>episode</th>\n",
       "      <th>character</th>\n",
       "      <th>line</th>\n",
       "    </tr>\n",
       "  </thead>\n",
       "  <tbody>\n",
       "    <tr>\n",
       "      <th>0</th>\n",
       "      <td>10</td>\n",
       "      <td>1</td>\n",
       "      <td>Stan</td>\n",
       "      <td>You guys guys Chef going away</td>\n",
       "    </tr>\n",
       "    <tr>\n",
       "      <th>1</th>\n",
       "      <td>10</td>\n",
       "      <td>1</td>\n",
       "      <td>Kyle</td>\n",
       "      <td>Going away For long</td>\n",
       "    </tr>\n",
       "    <tr>\n",
       "      <th>2</th>\n",
       "      <td>10</td>\n",
       "      <td>1</td>\n",
       "      <td>Stan</td>\n",
       "      <td>Forever</td>\n",
       "    </tr>\n",
       "    <tr>\n",
       "      <th>3</th>\n",
       "      <td>10</td>\n",
       "      <td>1</td>\n",
       "      <td>Chef</td>\n",
       "      <td>I sorry boys</td>\n",
       "    </tr>\n",
       "    <tr>\n",
       "      <th>4</th>\n",
       "      <td>10</td>\n",
       "      <td>1</td>\n",
       "      <td>Stan</td>\n",
       "      <td>Chef said bored joining group called Super Adv...</td>\n",
       "    </tr>\n",
       "  </tbody>\n",
       "</table>\n",
       "</div>"
      ],
      "text/plain": [
       "   season  episode character  \\\n",
       "0      10        1      Stan   \n",
       "1      10        1      Kyle   \n",
       "2      10        1      Stan   \n",
       "3      10        1      Chef   \n",
       "4      10        1      Stan   \n",
       "\n",
       "                                                line  \n",
       "0                      You guys guys Chef going away  \n",
       "1                                Going away For long  \n",
       "2                                            Forever  \n",
       "3                                       I sorry boys  \n",
       "4  Chef said bored joining group called Super Adv...  "
      ]
     },
     "execution_count": 14,
     "metadata": {},
     "output_type": "execute_result"
    }
   ],
   "source": [
    "data.line = data.line.progress_apply(stop_words)\n",
    "data.head()"
   ]
  },
  {
   "cell_type": "markdown",
   "id": "painful-flush",
   "metadata": {},
   "source": [
    "## Sentiment analysis"
   ]
  },
  {
   "cell_type": "markdown",
   "id": "electoral-niger",
   "metadata": {},
   "source": [
    "We are now ready to use nltk to carry out the sentiment analysis"
   ]
  },
  {
   "cell_type": "code",
   "execution_count": 15,
   "id": "conservative-gauge",
   "metadata": {},
   "outputs": [
    {
     "name": "stderr",
     "output_type": "stream",
     "text": [
      "[nltk_data] Downloading package vader_lexicon to\n",
      "[nltk_data]     /Users/alfredodezavala/nltk_data...\n",
      "[nltk_data]   Package vader_lexicon is already up-to-date!\n"
     ]
    },
    {
     "data": {
      "text/plain": [
       "True"
      ]
     },
     "execution_count": 15,
     "metadata": {},
     "output_type": "execute_result"
    }
   ],
   "source": [
    "nltk.download('vader_lexicon')"
   ]
  },
  {
   "cell_type": "code",
   "execution_count": 16,
   "id": "committed-aquatic",
   "metadata": {},
   "outputs": [],
   "source": [
    "def sentimentAnalysis(sentence):\n",
    "    sia = SentimentIntensityAnalyzer()\n",
    "    polarity = sia.polarity_scores(sentence)\n",
    "    pol = polarity['compound']\n",
    "    return pol"
   ]
  },
  {
   "cell_type": "code",
   "execution_count": 17,
   "id": "binary-honduras",
   "metadata": {},
   "outputs": [
    {
     "name": "stderr",
     "output_type": "stream",
     "text": [
      "my bar!: 100%|██████████| 70879/70879 [09:53<00:00, 119.35it/s]\n"
     ]
    },
    {
     "data": {
      "text/html": [
       "<div>\n",
       "<style scoped>\n",
       "    .dataframe tbody tr th:only-of-type {\n",
       "        vertical-align: middle;\n",
       "    }\n",
       "\n",
       "    .dataframe tbody tr th {\n",
       "        vertical-align: top;\n",
       "    }\n",
       "\n",
       "    .dataframe thead th {\n",
       "        text-align: right;\n",
       "    }\n",
       "</style>\n",
       "<table border=\"1\" class=\"dataframe\">\n",
       "  <thead>\n",
       "    <tr style=\"text-align: right;\">\n",
       "      <th></th>\n",
       "      <th>season</th>\n",
       "      <th>episode</th>\n",
       "      <th>character</th>\n",
       "      <th>line</th>\n",
       "      <th>sentiment_compound</th>\n",
       "    </tr>\n",
       "  </thead>\n",
       "  <tbody>\n",
       "    <tr>\n",
       "      <th>0</th>\n",
       "      <td>10</td>\n",
       "      <td>1</td>\n",
       "      <td>Stan</td>\n",
       "      <td>You guys guys Chef going away</td>\n",
       "      <td>0.0000</td>\n",
       "    </tr>\n",
       "    <tr>\n",
       "      <th>1</th>\n",
       "      <td>10</td>\n",
       "      <td>1</td>\n",
       "      <td>Kyle</td>\n",
       "      <td>Going away For long</td>\n",
       "      <td>0.0000</td>\n",
       "    </tr>\n",
       "    <tr>\n",
       "      <th>2</th>\n",
       "      <td>10</td>\n",
       "      <td>1</td>\n",
       "      <td>Stan</td>\n",
       "      <td>Forever</td>\n",
       "      <td>0.0000</td>\n",
       "    </tr>\n",
       "    <tr>\n",
       "      <th>3</th>\n",
       "      <td>10</td>\n",
       "      <td>1</td>\n",
       "      <td>Chef</td>\n",
       "      <td>I sorry boys</td>\n",
       "      <td>-0.0772</td>\n",
       "    </tr>\n",
       "    <tr>\n",
       "      <th>4</th>\n",
       "      <td>10</td>\n",
       "      <td>1</td>\n",
       "      <td>Stan</td>\n",
       "      <td>Chef said bored joining group called Super Adv...</td>\n",
       "      <td>0.6249</td>\n",
       "    </tr>\n",
       "  </tbody>\n",
       "</table>\n",
       "</div>"
      ],
      "text/plain": [
       "   season  episode character  \\\n",
       "0      10        1      Stan   \n",
       "1      10        1      Kyle   \n",
       "2      10        1      Stan   \n",
       "3      10        1      Chef   \n",
       "4      10        1      Stan   \n",
       "\n",
       "                                                line  sentiment_compound  \n",
       "0                      You guys guys Chef going away              0.0000  \n",
       "1                                Going away For long              0.0000  \n",
       "2                                            Forever              0.0000  \n",
       "3                                       I sorry boys             -0.0772  \n",
       "4  Chef said bored joining group called Super Adv...              0.6249  "
      ]
     },
     "execution_count": 17,
     "metadata": {},
     "output_type": "execute_result"
    }
   ],
   "source": [
    "data['sentiment_compound'] = data.line.progress_apply(sentimentAnalysis)\n",
    "data.head()"
   ]
  },
  {
   "cell_type": "markdown",
   "id": "conventional-rebate",
   "metadata": {},
   "source": [
    "## Visualization"
   ]
  },
  {
   "cell_type": "markdown",
   "id": "unauthorized-october",
   "metadata": {},
   "source": [
    "We can now use visualization to analyze the sentiment analysis results"
   ]
  },
  {
   "cell_type": "code",
   "execution_count": 18,
   "id": "studied-tongue",
   "metadata": {},
   "outputs": [
    {
     "data": {
      "text/html": [
       "<div>\n",
       "<style scoped>\n",
       "    .dataframe tbody tr th:only-of-type {\n",
       "        vertical-align: middle;\n",
       "    }\n",
       "\n",
       "    .dataframe tbody tr th {\n",
       "        vertical-align: top;\n",
       "    }\n",
       "\n",
       "    .dataframe thead th {\n",
       "        text-align: right;\n",
       "    }\n",
       "</style>\n",
       "<table border=\"1\" class=\"dataframe\">\n",
       "  <thead>\n",
       "    <tr style=\"text-align: right;\">\n",
       "      <th></th>\n",
       "      <th>season</th>\n",
       "      <th>episode</th>\n",
       "      <th>character</th>\n",
       "      <th>line</th>\n",
       "      <th>sentiment_compound</th>\n",
       "    </tr>\n",
       "  </thead>\n",
       "  <tbody>\n",
       "    <tr>\n",
       "      <th>0</th>\n",
       "      <td>10</td>\n",
       "      <td>1</td>\n",
       "      <td>Stan</td>\n",
       "      <td>You guys guys Chef going away</td>\n",
       "      <td>0.0000</td>\n",
       "    </tr>\n",
       "    <tr>\n",
       "      <th>1</th>\n",
       "      <td>10</td>\n",
       "      <td>1</td>\n",
       "      <td>Kyle</td>\n",
       "      <td>Going away For long</td>\n",
       "      <td>0.0000</td>\n",
       "    </tr>\n",
       "    <tr>\n",
       "      <th>2</th>\n",
       "      <td>10</td>\n",
       "      <td>1</td>\n",
       "      <td>Stan</td>\n",
       "      <td>Forever</td>\n",
       "      <td>0.0000</td>\n",
       "    </tr>\n",
       "    <tr>\n",
       "      <th>3</th>\n",
       "      <td>10</td>\n",
       "      <td>1</td>\n",
       "      <td>Chef</td>\n",
       "      <td>I sorry boys</td>\n",
       "      <td>-0.0772</td>\n",
       "    </tr>\n",
       "    <tr>\n",
       "      <th>4</th>\n",
       "      <td>10</td>\n",
       "      <td>1</td>\n",
       "      <td>Stan</td>\n",
       "      <td>Chef said bored joining group called Super Adv...</td>\n",
       "      <td>0.6249</td>\n",
       "    </tr>\n",
       "  </tbody>\n",
       "</table>\n",
       "</div>"
      ],
      "text/plain": [
       "   season  episode character  \\\n",
       "0      10        1      Stan   \n",
       "1      10        1      Kyle   \n",
       "2      10        1      Stan   \n",
       "3      10        1      Chef   \n",
       "4      10        1      Stan   \n",
       "\n",
       "                                                line  sentiment_compound  \n",
       "0                      You guys guys Chef going away              0.0000  \n",
       "1                                Going away For long              0.0000  \n",
       "2                                            Forever              0.0000  \n",
       "3                                       I sorry boys             -0.0772  \n",
       "4  Chef said bored joining group called Super Adv...              0.6249  "
      ]
     },
     "execution_count": 18,
     "metadata": {},
     "output_type": "execute_result"
    }
   ],
   "source": [
    "data.head()"
   ]
  },
  {
   "cell_type": "code",
   "execution_count": 19,
   "id": "multiple-arrow",
   "metadata": {},
   "outputs": [],
   "source": [
    "sent_by_season = data.groupby(\"season\").mean().filter([\"sentiment_compound\"])"
   ]
  },
  {
   "cell_type": "code",
   "execution_count": 22,
   "id": "compressed-stylus",
   "metadata": {},
   "outputs": [
    {
     "data": {
      "text/plain": [
       "([<matplotlib.axis.XTick at 0x7ff19fed09a0>,\n",
       "  <matplotlib.axis.XTick at 0x7ff19fed06a0>,\n",
       "  <matplotlib.axis.XTick at 0x7ff180606070>,\n",
       "  <matplotlib.axis.XTick at 0x7ff198ca3dc0>,\n",
       "  <matplotlib.axis.XTick at 0x7ff19f6f3cd0>,\n",
       "  <matplotlib.axis.XTick at 0x7ff19f704040>,\n",
       "  <matplotlib.axis.XTick at 0x7ff19f704760>,\n",
       "  <matplotlib.axis.XTick at 0x7ff19f704ca0>,\n",
       "  <matplotlib.axis.XTick at 0x7ff181a06310>,\n",
       "  <matplotlib.axis.XTick at 0x7ff1a01a1d60>,\n",
       "  <matplotlib.axis.XTick at 0x7ff19f727c40>,\n",
       "  <matplotlib.axis.XTick at 0x7ff19f704d30>,\n",
       "  <matplotlib.axis.XTick at 0x7ff19f6f3760>,\n",
       "  <matplotlib.axis.XTick at 0x7ff19f727a90>,\n",
       "  <matplotlib.axis.XTick at 0x7ff19f727280>,\n",
       "  <matplotlib.axis.XTick at 0x7ff19911c8e0>,\n",
       "  <matplotlib.axis.XTick at 0x7ff19ffd2520>,\n",
       "  <matplotlib.axis.XTick at 0x7ff19ffd2a30>],\n",
       " [Text(0, 0, ''),\n",
       "  Text(0, 0, ''),\n",
       "  Text(0, 0, ''),\n",
       "  Text(0, 0, ''),\n",
       "  Text(0, 0, ''),\n",
       "  Text(0, 0, ''),\n",
       "  Text(0, 0, ''),\n",
       "  Text(0, 0, ''),\n",
       "  Text(0, 0, ''),\n",
       "  Text(0, 0, ''),\n",
       "  Text(0, 0, ''),\n",
       "  Text(0, 0, ''),\n",
       "  Text(0, 0, ''),\n",
       "  Text(0, 0, ''),\n",
       "  Text(0, 0, ''),\n",
       "  Text(0, 0, ''),\n",
       "  Text(0, 0, ''),\n",
       "  Text(0, 0, '')])"
      ]
     },
     "execution_count": 22,
     "metadata": {},
     "output_type": "execute_result"
    },
    {
     "data": {
      "image/png": "[encoded data removed]",
      "text/plain": [
       "<Figure size 432x288 with 1 Axes>"
      ]
     },
     "metadata": {
      "needs_background": "light"
     },
     "output_type": "display_data"
    }
   ],
   "source": [
    "x = np.arange(1,19)\n",
    "fig, ax = plt.subplots(1, 1)\n",
    "ax.plot(x, sent_by_season[\"sentiment_compound\"], 'go')\n",
    "ax.vlines(x, 0, sent_by_season[\"sentiment_compound\"], colors='g', lw=5, alpha=0.4)\n",
    "\n",
    "plt.title('Sentiment by season', size=20)\n",
    "plt.xlabel('Season')\n",
    "plt.ylabel('Sentiment')\n",
    "plt.xticks(range(1,19))"
   ]
  },
  {
   "cell_type": "markdown",
   "id": "eight-skill",
   "metadata": {},
   "source": [
    "It seems like there is significant variation in the sentiment from season to season. However, the show continues to use somewhat positive language overall throughout every season."
   ]
  },
  {
   "cell_type": "markdown",
   "id": "faced-collector",
   "metadata": {},
   "source": [
    "Let's look at particular characters to see if this continues to be true. We'll take a look at the top 10 characters with most lines in the show"
   ]
  },
  {
   "cell_type": "code",
   "execution_count": 23,
   "id": "typical-photography",
   "metadata": {},
   "outputs": [
    {
     "data": {
      "text/plain": [
       "['Cartman',\n",
       " 'Stan',\n",
       " 'Kyle',\n",
       " 'Butters',\n",
       " 'Randy',\n",
       " 'Mr. Garrison',\n",
       " 'Chef',\n",
       " 'Kenny',\n",
       " 'Sharon',\n",
       " 'Mr. Mackey']"
      ]
     },
     "execution_count": 23,
     "metadata": {},
     "output_type": "execute_result"
    }
   ],
   "source": [
    "n = 10\n",
    "popular_characters = data['character'].value_counts()[:n].index.tolist()\n",
    "popular_characters"
   ]
  },
  {
   "cell_type": "code",
   "execution_count": 24,
   "id": "bigger-shirt",
   "metadata": {},
   "outputs": [],
   "source": [
    "sent_by_character = data.groupby(\"character\").mean().filter([\"sentiment_compound\"]).reset_index()"
   ]
  },
  {
   "cell_type": "code",
   "execution_count": 25,
   "id": "multiple-standard",
   "metadata": {},
   "outputs": [],
   "source": [
    "top_10_hist_characters = sent_by_character[sent_by_character['character'].isin(popular_characters)]"
   ]
  },
  {
   "cell_type": "code",
   "execution_count": 26,
   "id": "descending-partnership",
   "metadata": {},
   "outputs": [
    {
     "data": {
      "text/plain": [
       "<AxesSubplot:xlabel='character'>"
      ]
     },
     "execution_count": 26,
     "metadata": {},
     "output_type": "execute_result"
    },
    {
     "data": {
      "image/png": "[encoded data removed]",
      "text/plain": [
       "<Figure size 432x288 with 1 Axes>"
      ]
     },
     "metadata": {
      "needs_background": "light"
     },
     "output_type": "display_data"
    }
   ],
   "source": [
    "top_10_hist_characters.plot(kind='bar',x='character',y='sentiment_compound')"
   ]
  },
  {
   "cell_type": "markdown",
   "id": "different-gibson",
   "metadata": {},
   "source": [
    "Again, while there is some variation between chatacters, it seems like the most popular characters in the show use positive language on average. We can look at how this data evolves by season, at least for the top 5"
   ]
  },
  {
   "cell_type": "code",
   "execution_count": 27,
   "id": "touched-ghost",
   "metadata": {},
   "outputs": [],
   "source": [
    "sentiment_char_seas = data.groupby([\"season\", \"character\"]).mean().filter([\"sentiment_compound\"]).reset_index()"
   ]
  },
  {
   "cell_type": "code",
   "execution_count": 28,
   "id": "pleased-feature",
   "metadata": {},
   "outputs": [
    {
     "data": {
      "text/plain": [
       "['Cartman', 'Stan', 'Kyle', 'Butters', 'Randy']"
      ]
     },
     "execution_count": 28,
     "metadata": {},
     "output_type": "execute_result"
    }
   ],
   "source": [
    "n = 5\n",
    "top5_popular_characters = data['character'].value_counts()[:n].index.tolist()\n",
    "top5_popular_characters"
   ]
  },
  {
   "cell_type": "code",
   "execution_count": 29,
   "id": "muslim-bulgarian",
   "metadata": {},
   "outputs": [],
   "source": [
    "top_5_hist_characters = sentiment_char_seas[sentiment_char_seas['character'].isin(top5_popular_characters)]"
   ]
  },
  {
   "cell_type": "code",
   "execution_count": 30,
   "id": "polished-intention",
   "metadata": {},
   "outputs": [
    {
     "data": {
      "text/html": [
       "<div>\n",
       "<style scoped>\n",
       "    .dataframe tbody tr th:only-of-type {\n",
       "        vertical-align: middle;\n",
       "    }\n",
       "\n",
       "    .dataframe tbody tr th {\n",
       "        vertical-align: top;\n",
       "    }\n",
       "\n",
       "    .dataframe thead th {\n",
       "        text-align: right;\n",
       "    }\n",
       "</style>\n",
       "<table border=\"1\" class=\"dataframe\">\n",
       "  <thead>\n",
       "    <tr style=\"text-align: right;\">\n",
       "      <th></th>\n",
       "      <th>season</th>\n",
       "      <th>character</th>\n",
       "      <th>sentiment_compound</th>\n",
       "    </tr>\n",
       "  </thead>\n",
       "  <tbody>\n",
       "    <tr>\n",
       "      <th>33</th>\n",
       "      <td>1</td>\n",
       "      <td>Cartman</td>\n",
       "      <td>-0.066780</td>\n",
       "    </tr>\n",
       "    <tr>\n",
       "      <th>111</th>\n",
       "      <td>1</td>\n",
       "      <td>Kyle</td>\n",
       "      <td>0.006186</td>\n",
       "    </tr>\n",
       "    <tr>\n",
       "      <th>178</th>\n",
       "      <td>1</td>\n",
       "      <td>Randy</td>\n",
       "      <td>0.065310</td>\n",
       "    </tr>\n",
       "    <tr>\n",
       "      <th>209</th>\n",
       "      <td>1</td>\n",
       "      <td>Stan</td>\n",
       "      <td>0.006883</td>\n",
       "    </tr>\n",
       "    <tr>\n",
       "      <th>303</th>\n",
       "      <td>2</td>\n",
       "      <td>Butters</td>\n",
       "      <td>0.000000</td>\n",
       "    </tr>\n",
       "    <tr>\n",
       "      <th>...</th>\n",
       "      <td>...</td>\n",
       "      <td>...</td>\n",
       "      <td>...</td>\n",
       "    </tr>\n",
       "    <tr>\n",
       "      <th>6312</th>\n",
       "      <td>18</td>\n",
       "      <td>Butters</td>\n",
       "      <td>0.056999</td>\n",
       "    </tr>\n",
       "    <tr>\n",
       "      <th>6316</th>\n",
       "      <td>18</td>\n",
       "      <td>Cartman</td>\n",
       "      <td>0.055210</td>\n",
       "    </tr>\n",
       "    <tr>\n",
       "      <th>6397</th>\n",
       "      <td>18</td>\n",
       "      <td>Kyle</td>\n",
       "      <td>0.065814</td>\n",
       "    </tr>\n",
       "    <tr>\n",
       "      <th>6463</th>\n",
       "      <td>18</td>\n",
       "      <td>Randy</td>\n",
       "      <td>0.113387</td>\n",
       "    </tr>\n",
       "    <tr>\n",
       "      <th>6494</th>\n",
       "      <td>18</td>\n",
       "      <td>Stan</td>\n",
       "      <td>0.058594</td>\n",
       "    </tr>\n",
       "  </tbody>\n",
       "</table>\n",
       "<p>89 rows × 3 columns</p>\n",
       "</div>"
      ],
      "text/plain": [
       "      season character  sentiment_compound\n",
       "33         1   Cartman           -0.066780\n",
       "111        1      Kyle            0.006186\n",
       "178        1     Randy            0.065310\n",
       "209        1      Stan            0.006883\n",
       "303        2   Butters            0.000000\n",
       "...      ...       ...                 ...\n",
       "6312      18   Butters            0.056999\n",
       "6316      18   Cartman            0.055210\n",
       "6397      18      Kyle            0.065814\n",
       "6463      18     Randy            0.113387\n",
       "6494      18      Stan            0.058594\n",
       "\n",
       "[89 rows x 3 columns]"
      ]
     },
     "execution_count": 30,
     "metadata": {},
     "output_type": "execute_result"
    }
   ],
   "source": [
    "top_5_hist_characters"
   ]
  },
  {
   "cell_type": "code",
   "execution_count": 31,
   "id": "acute-elephant",
   "metadata": {},
   "outputs": [],
   "source": [
    "number_seasons = top_5_hist_characters[\"season\"].max()"
   ]
  },
  {
   "cell_type": "code",
   "execution_count": 32,
   "id": "equal-robert",
   "metadata": {},
   "outputs": [
    {
     "data": {
      "image/png": "[encoded data removed]",
      "text/plain": [
       "<Figure size 432x288 with 1 Axes>"
      ]
     },
     "metadata": {
      "needs_background": "light"
     },
     "output_type": "display_data"
    },
    {
     "data": {
      "image/png": "[encoded data removed]",
      "text/plain": [
       "<Figure size 432x288 with 1 Axes>"
      ]
     },
     "metadata": {
      "needs_background": "light"
     },
     "output_type": "display_data"
    },
    {
     "data": {
      "image/png": "[encoded data removed]",
      "text/plain": [
       "<Figure size 432x288 with 1 Axes>"
      ]
     },
     "metadata": {
      "needs_background": "light"
     },
     "output_type": "display_data"
    },
    {
     "data": {
      "image/png": "[encoded data removed]",
      "text/plain": [
       "<Figure size 432x288 with 1 Axes>"
      ]
     },
     "metadata": {
      "needs_background": "light"
     },
     "output_type": "display_data"
    },
    {
     "data": {
      "image/png": "[encoded data removed]",
      "text/plain": [
       "<Figure size 432x288 with 1 Axes>"
      ]
     },
     "metadata": {
      "needs_background": "light"
     },
     "output_type": "display_data"
    }
   ],
   "source": [
    "for char in top5_popular_characters:\n",
    "    filt = top_5_hist_characters[top_5_hist_characters[\"character\"] == char]\n",
    "    sns.barplot(x = filt.season, y = filt.sentiment_compound, color = \"navy\")\n",
    "    plt.title(char, size=20)\n",
    "    plt.xlabel('Season')\n",
    "    plt.ylabel('Sentiment')\n",
    "    plt.show()"
   ]
  },
  {
   "cell_type": "markdown",
   "id": "personalized-audit",
   "metadata": {},
   "source": [
    "At last we have found characters that have an average sentiment below zero. However, we can see that there is a variability between seasons."
   ]
  },
  {
   "cell_type": "markdown",
   "id": "alpine-measure",
   "metadata": {},
   "source": [
    "## Conclusions"
   ]
  },
  {
   "cell_type": "markdown",
   "id": "authorized-albany",
   "metadata": {},
   "source": [
    "Surprinsngly (at least for me), my initial hypothesis seems to be wrong. South Park's rudeness comes hand in hand with a relatively neutral-positive language (on average) instead of the predominance of negative language that I expected. This might be one of the secrets of a show that has been running for many seasons, as the use of a relatively positive language might leave the viewer with a general good-feel."
   ]
  },
  {
   "cell_type": "code",
   "execution_count": null,
   "id": "coordinated-flour",
   "metadata": {},
   "outputs": [],
   "source": []
  }
 ],
 "metadata": {
  "kernelspec": {
   "display_name": "Python 3",
   "language": "python",
   "name": "python3"
  },
  "language_info": {
   "codemirror_mode": {
    "name": "ipython",
    "version": 3
   },
   "file_extension": ".py",
   "mimetype": "text/x-python",
   "name": "python",
   "nbconvert_exporter": "python",
   "pygments_lexer": "ipython3",
   "version": "3.8.5"
  },
  "toc": {
   "base_numbering": 1,
   "nav_menu": {},
   "number_sections": true,
   "sideBar": true,
   "skip_h1_title": true,
   "title_cell": "Table of Contents",
   "title_sidebar": "Contents",
   "toc_cell": true,
   "toc_position": {},
   "toc_section_display": true,
   "toc_window_display": false
  },
  "varInspector": {
   "cols": {
    "lenName": 16,
    "lenType": 16,
    "lenVar": 40
   },
   "kernels_config": {
    "python": {
     "delete_cmd_postfix": "",
     "delete_cmd_prefix": "del ",
     "library": "var_list.py",
     "varRefreshCmd": "print(var_dic_list())"
    },
    "r": {
     "delete_cmd_postfix": ") ",
     "delete_cmd_prefix": "rm(",
     "library": "var_list.r",
     "varRefreshCmd": "cat(var_dic_list()) "
    }
   },
   "types_to_exclude": [
    "module",
    "function",
    "builtin_function_or_method",
    "instance",
    "_Feature"
   ],
   "window_display": false
  }
 },
 "nbformat": 4,
 "nbformat_minor": 5
}
