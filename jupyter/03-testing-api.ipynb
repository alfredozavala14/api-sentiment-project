{
 "cells": [
  {
   "cell_type": "markdown",
   "id": "breathing-forwarding",
   "metadata": {
    "toc": true
   },
   "source": [
    "<h1>Table of Contents<span class=\"tocSkip\"></span></h1>\n",
    "<div class=\"toc\"><ul class=\"toc-item\"><li><span><a href=\"#Intro\" data-toc-modified-id=\"Intro-1\"><span class=\"toc-item-num\">1&nbsp;&nbsp;</span>Intro</a></span></li><li><span><a href=\"#Import-libraries\" data-toc-modified-id=\"Import-libraries-2\"><span class=\"toc-item-num\">2&nbsp;&nbsp;</span>Import libraries</a></span></li><li><span><a href=\"#Testing\" data-toc-modified-id=\"Testing-3\"><span class=\"toc-item-num\">3&nbsp;&nbsp;</span>Testing</a></span></li></ul></div>"
   ]
  },
  {
   "cell_type": "markdown",
   "id": "constant-prototype",
   "metadata": {},
   "source": [
    "## Intro"
   ]
  },
  {
   "cell_type": "markdown",
   "id": "elect-foundation",
   "metadata": {},
   "source": [
    "This jupyter notebook is used to show that the South Park API works by calling some endpoints"
   ]
  },
  {
   "cell_type": "markdown",
   "id": "sunrise-salvation",
   "metadata": {},
   "source": [
    "## Import libraries"
   ]
  },
  {
   "cell_type": "code",
   "execution_count": 1,
   "id": "corresponding-sweden",
   "metadata": {},
   "outputs": [],
   "source": [
    "import requests"
   ]
  },
  {
   "cell_type": "markdown",
   "id": "posted-october",
   "metadata": {},
   "source": [
    "## Testing"
   ]
  },
  {
   "cell_type": "code",
   "execution_count": 2,
   "id": "amino-pollution",
   "metadata": {},
   "outputs": [],
   "source": [
    "url = \"http://127.0.0.1:5000/\""
   ]
  },
  {
   "cell_type": "code",
   "execution_count": 3,
   "id": "loving-pizza",
   "metadata": {},
   "outputs": [],
   "source": [
    "endpoint1 = \"characters\""
   ]
  },
  {
   "cell_type": "code",
   "execution_count": 4,
   "id": "alert-aside",
   "metadata": {},
   "outputs": [],
   "source": [
    "res = requests.get(url+endpoint1)"
   ]
  },
  {
   "cell_type": "code",
   "execution_count": 5,
   "id": "exempt-printer",
   "metadata": {},
   "outputs": [
    {
     "data": {
      "text/plain": [
       "['Phillip',\n",
       " 'Rabbi 4',\n",
       " 'French Cardinal',\n",
       " 'Print Reporter',\n",
       " 'Pat',\n",
       " 'Supporters',\n",
       " 'The Kids',\n",
       " 'Selena Gomez',\n",
       " 'Flight Attendant 2',\n",
       " 'UAL Member 1']"
      ]
     },
     "execution_count": 5,
     "metadata": {},
     "output_type": "execute_result"
    }
   ],
   "source": [
    "res.json()[:10]"
   ]
  },
  {
   "cell_type": "code",
   "execution_count": 6,
   "id": "distinct-context",
   "metadata": {},
   "outputs": [],
   "source": [
    "endpoint2 = \"messages/episode/character\"\n",
    "parameters2 = {\n",
    "    \"season\" : 1,\n",
    "    \"episode\" : 5,\n",
    "    \"character\" : \"Stan\"\n",
    "}\n",
    "\n",
    "res2 = requests.get(url+endpoint2, params= parameters2)"
   ]
  },
  {
   "cell_type": "code",
   "execution_count": 7,
   "id": "acknowledged-petersburg",
   "metadata": {},
   "outputs": [
    {
     "data": {
      "text/plain": [
       "['Stan: Nothing, I mu-I mean, nowhere.',\n",
       " 'Stan: No!',\n",
       " \"Stan: She's just pissed off 'cause she got headgear at the dentist.  She's taking it out on me.\",\n",
       " \"Stan: My parents don't even believe that she beats me up.  They think she's all innocent and sweet, but I know that she's an evil bitch!\",\n",
       " \"Stan: Hey Kyle, what's that elephant doing?\",\n",
       " 'Stan: Yeah.',\n",
       " \"Stan: Whoa dude!  Where'd you get a pet elephant?\",\n",
       " \"Stan: Wow, that's cool!\",\n",
       " \"Stan: Well yeah, but pigs aren't smart, like elephants.\",\n",
       " \"Stan: That'd be cool!\"]"
      ]
     },
     "execution_count": 7,
     "metadata": {},
     "output_type": "execute_result"
    }
   ],
   "source": [
    "res2.json()[:10]"
   ]
  },
  {
   "cell_type": "code",
   "execution_count": 8,
   "id": "addressed-theta",
   "metadata": {},
   "outputs": [],
   "source": [
    "endpoint3 = \"/episodes/new\"\n",
    "parameters3 = {\n",
    "    \"season\": 20,\n",
    "    \"episode\": 1\n",
    "}\n",
    "\n",
    "res3 = requests.get(url+endpoint3, params= parameters3)"
   ]
  },
  {
   "cell_type": "code",
   "execution_count": 9,
   "id": "assured-column",
   "metadata": {},
   "outputs": [
    {
     "data": {
      "text/plain": [
       "{'_id': {'$oid': '6034c93bd1dbd2a65931cfc7'}}"
      ]
     },
     "execution_count": 9,
     "metadata": {},
     "output_type": "execute_result"
    }
   ],
   "source": [
    "res3.json()"
   ]
  },
  {
   "cell_type": "code",
   "execution_count": 10,
   "id": "consecutive-harrison",
   "metadata": {},
   "outputs": [],
   "source": [
    "endpoint4 = \"/messages/new\"\n",
    "parameters4 = {\n",
    "    \"season\": 20,\n",
    "    \"episode\": 1,\n",
    "    \"character\": \"Stan\",\n",
    "    \"line\": \"Kick-ass buddy!\"\n",
    "}\n",
    "\n",
    "res4 = requests.get(url+endpoint4, params= parameters4)"
   ]
  },
  {
   "cell_type": "code",
   "execution_count": 11,
   "id": "parallel-latin",
   "metadata": {},
   "outputs": [
    {
     "data": {
      "text/plain": [
       "{'_id': {'$oid': '6034c93bd1dbd2a65931cfc8'}}"
      ]
     },
     "execution_count": 11,
     "metadata": {},
     "output_type": "execute_result"
    }
   ],
   "source": [
    "res4.json()"
   ]
  },
  {
   "cell_type": "code",
   "execution_count": 12,
   "id": "behavioral-position",
   "metadata": {},
   "outputs": [],
   "source": [
    "endpoint5 = \"/messages/edit\"\n",
    "parameters5 = {\n",
    "    \"id\": '6034c7bdd1dbd2a65931cfc6',\n",
    "    \"line\": \"Oh no, Kenny is dead!\"\n",
    "} \n",
    "\n",
    "res5 = requests.get(url+endpoint5, params= parameters5)"
   ]
  },
  {
   "cell_type": "code",
   "execution_count": 13,
   "id": "tight-intermediate",
   "metadata": {},
   "outputs": [
    {
     "data": {
      "text/plain": [
       "{'response': 200, 'message': 'Message successfully updated'}"
      ]
     },
     "execution_count": 13,
     "metadata": {},
     "output_type": "execute_result"
    }
   ],
   "source": [
    "res5.json()"
   ]
  },
  {
   "cell_type": "code",
   "execution_count": 14,
   "id": "accurate-guyana",
   "metadata": {},
   "outputs": [],
   "source": [
    "endpoint6 = \"/episodes/delete\"\n",
    "parameters6 = {\n",
    "    \"season\": 20,\n",
    "    \"episode\": 1\n",
    "} \n",
    "\n",
    "res6 = requests.get(url+endpoint6, params= parameters6)"
   ]
  },
  {
   "cell_type": "code",
   "execution_count": 15,
   "id": "occupational-intersection",
   "metadata": {},
   "outputs": [
    {
     "data": {
      "text/plain": [
       "{'response': 200, 'message': 'Episode successfully deleted'}"
      ]
     },
     "execution_count": 15,
     "metadata": {},
     "output_type": "execute_result"
    }
   ],
   "source": [
    "res6.json()"
   ]
  },
  {
   "cell_type": "code",
   "execution_count": 16,
   "id": "relative-grocery",
   "metadata": {},
   "outputs": [],
   "source": [
    "endpoint7 = \"/messages/episode\"\n",
    "parameters7 = {\n",
    "    \"season\": 20,\n",
    "    \"episode\": 1\n",
    "}\n",
    "\n",
    "res7 = requests.get(url+endpoint7, params= parameters7)"
   ]
  },
  {
   "cell_type": "code",
   "execution_count": 17,
   "id": "permanent-cameroon",
   "metadata": {},
   "outputs": [
    {
     "data": {
      "text/plain": [
       "{'response': 400, 'message': 'Bad Request: season & episode do not exist'}"
      ]
     },
     "execution_count": 17,
     "metadata": {},
     "output_type": "execute_result"
    }
   ],
   "source": [
    "res7.json()"
   ]
  },
  {
   "cell_type": "code",
   "execution_count": null,
   "id": "historical-forty",
   "metadata": {},
   "outputs": [],
   "source": []
  }
 ],
 "metadata": {
  "kernelspec": {
   "display_name": "Python 3",
   "language": "python",
   "name": "python3"
  },
  "language_info": {
   "codemirror_mode": {
    "name": "ipython",
    "version": 3
   },
   "file_extension": ".py",
   "mimetype": "text/x-python",
   "name": "python",
   "nbconvert_exporter": "python",
   "pygments_lexer": "ipython3",
   "version": "3.8.5"
  },
  "toc": {
   "base_numbering": 1,
   "nav_menu": {},
   "number_sections": true,
   "sideBar": true,
   "skip_h1_title": true,
   "title_cell": "Table of Contents",
   "title_sidebar": "Contents",
   "toc_cell": true,
   "toc_position": {},
   "toc_section_display": true,
   "toc_window_display": false
  },
  "varInspector": {
   "cols": {
    "lenName": 16,
    "lenType": 16,
    "lenVar": 40
   },
   "kernels_config": {
    "python": {
     "delete_cmd_postfix": "",
     "delete_cmd_prefix": "del ",
     "library": "var_list.py",
     "varRefreshCmd": "print(var_dic_list())"
    },
    "r": {
     "delete_cmd_postfix": ") ",
     "delete_cmd_prefix": "rm(",
     "library": "var_list.r",
     "varRefreshCmd": "cat(var_dic_list()) "
    }
   },
   "types_to_exclude": [
    "module",
    "function",
    "builtin_function_or_method",
    "instance",
    "_Feature"
   ],
   "window_display": false
  }
 },
 "nbformat": 4,
 "nbformat_minor": 5
}
